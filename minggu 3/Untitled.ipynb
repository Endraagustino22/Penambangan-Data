{
 "cells": [
  {
   "cell_type": "markdown",
   "id": "70cbf7e0",
   "metadata": {},
   "source": [
    "# PREPROCCESSING DATA"
   ]
  },
  {
   "cell_type": "markdown",
   "id": "670a55c7",
   "metadata": {},
   "source": [
    "### Import Data dan Library"
   ]
  },
  {
   "cell_type": "code",
   "execution_count": 88,
   "id": "b202ecbb",
   "metadata": {},
   "outputs": [],
   "source": [
    "import pandas as pd\n",
    "import numpy as np\n",
    "from IPython.display import display\n",
    "import matplotlib.pyplot as plt\n",
    "import seaborn as sns\n",
    "from sklearn.preprocessing import LabelEncoder\n",
    "from sklearn.preprocessing import MinMaxScaler\n",
    "\n",
    "\n",
    "\n",
    "df = pd.read_excel('dataKasus-1.xlsx')\n",
    "encoder = LabelEncoder()\n",
    "scaler = MinMaxScaler()"
   ]
  },
  {
   "cell_type": "markdown",
   "id": "5a45717e",
   "metadata": {},
   "source": []
  },
  {
   "cell_type": "markdown",
   "id": "0c92e004",
   "metadata": {},
   "source": [
    "### Menampilkan data"
   ]
  },
  {
   "cell_type": "code",
   "execution_count": 89,
   "id": "4e67cecd",
   "metadata": {
    "scrolled": true
   },
   "outputs": [
    {
     "data": {
      "text/html": [
       "<div>\n",
       "<style scoped>\n",
       "    .dataframe tbody tr th:only-of-type {\n",
       "        vertical-align: middle;\n",
       "    }\n",
       "\n",
       "    .dataframe tbody tr th {\n",
       "        vertical-align: top;\n",
       "    }\n",
       "\n",
       "    .dataframe thead th {\n",
       "        text-align: right;\n",
       "    }\n",
       "</style>\n",
       "<table border=\"1\" class=\"dataframe\">\n",
       "  <thead>\n",
       "    <tr style=\"text-align: right;\">\n",
       "      <th></th>\n",
       "      <th>NO</th>\n",
       "      <th>NAMA</th>\n",
       "      <th>USIA</th>\n",
       "      <th>PARITAS</th>\n",
       "      <th>JARAK KELAHIRAN</th>\n",
       "      <th>RIW HIPERTENSI</th>\n",
       "      <th>RIW PE</th>\n",
       "      <th>OBESITAS</th>\n",
       "      <th>RIW DM</th>\n",
       "      <th>RIW HIPERTENSI/PE DALAM KELUARGA</th>\n",
       "      <th>SOSEK RENDAH</th>\n",
       "      <th>PE/Non PE</th>\n",
       "      <th>Unnamed: 12</th>\n",
       "    </tr>\n",
       "  </thead>\n",
       "  <tbody>\n",
       "    <tr>\n",
       "      <th>0</th>\n",
       "      <td>1</td>\n",
       "      <td>NAMA 1</td>\n",
       "      <td>23 TH</td>\n",
       "      <td>3</td>\n",
       "      <td>&lt; 2 tahun</td>\n",
       "      <td>Tidak</td>\n",
       "      <td>Tidak</td>\n",
       "      <td>Tidak</td>\n",
       "      <td>Ya</td>\n",
       "      <td>Tidak</td>\n",
       "      <td>&gt;UMR</td>\n",
       "      <td>Non PE</td>\n",
       "      <td>NaN</td>\n",
       "    </tr>\n",
       "    <tr>\n",
       "      <th>1</th>\n",
       "      <td>2</td>\n",
       "      <td>NAMA 2</td>\n",
       "      <td>29 TH</td>\n",
       "      <td>2</td>\n",
       "      <td>&lt; 2 tahun</td>\n",
       "      <td>Tidak</td>\n",
       "      <td>PEB</td>\n",
       "      <td>Tidak</td>\n",
       "      <td>Tidak</td>\n",
       "      <td>Ada</td>\n",
       "      <td>&gt;UMR</td>\n",
       "      <td>PE</td>\n",
       "      <td>NaN</td>\n",
       "    </tr>\n",
       "    <tr>\n",
       "      <th>2</th>\n",
       "      <td>3</td>\n",
       "      <td>NAMA 3</td>\n",
       "      <td>20 TH</td>\n",
       "      <td>1</td>\n",
       "      <td>anak pertama</td>\n",
       "      <td>Tidak</td>\n",
       "      <td>Tidak</td>\n",
       "      <td>Tidak</td>\n",
       "      <td>Tidak</td>\n",
       "      <td>Tidak</td>\n",
       "      <td>&gt;UMR</td>\n",
       "      <td>Non PE</td>\n",
       "      <td>NaN</td>\n",
       "    </tr>\n",
       "    <tr>\n",
       "      <th>3</th>\n",
       "      <td>4</td>\n",
       "      <td>NAMA 4</td>\n",
       "      <td>18 TH</td>\n",
       "      <td>1</td>\n",
       "      <td>anak pertama</td>\n",
       "      <td>Tidak</td>\n",
       "      <td>Tidak</td>\n",
       "      <td>Tidak</td>\n",
       "      <td>Tidak</td>\n",
       "      <td>Tidak</td>\n",
       "      <td>&gt;UMR</td>\n",
       "      <td>Non PE</td>\n",
       "      <td>NaN</td>\n",
       "    </tr>\n",
       "    <tr>\n",
       "      <th>4</th>\n",
       "      <td>5</td>\n",
       "      <td>NAMA 5</td>\n",
       "      <td>34 TH</td>\n",
       "      <td>3</td>\n",
       "      <td>&gt; 2 tahun</td>\n",
       "      <td>Tidak</td>\n",
       "      <td>Tidak</td>\n",
       "      <td>Tidak</td>\n",
       "      <td>Tidak</td>\n",
       "      <td>Tidak</td>\n",
       "      <td>&gt;UMR</td>\n",
       "      <td>Non PE</td>\n",
       "      <td>NaN</td>\n",
       "    </tr>\n",
       "  </tbody>\n",
       "</table>\n",
       "</div>"
      ],
      "text/plain": [
       "   NO    NAMA   USIA  PARITAS JARAK KELAHIRAN RIW HIPERTENSI RIW PE OBESITAS  \\\n",
       "0   1  NAMA 1  23 TH        3       < 2 tahun          Tidak  Tidak    Tidak   \n",
       "1   2  NAMA 2  29 TH        2       < 2 tahun          Tidak    PEB    Tidak   \n",
       "2   3  NAMA 3  20 TH        1    anak pertama          Tidak  Tidak    Tidak   \n",
       "3   4  NAMA 4  18 TH        1    anak pertama          Tidak  Tidak    Tidak   \n",
       "4   5  NAMA 5  34 TH        3      > 2 tahun           Tidak  Tidak    Tidak   \n",
       "\n",
       "  RIW DM RIW HIPERTENSI/PE DALAM KELUARGA SOSEK RENDAH PE/Non PE Unnamed: 12  \n",
       "0     Ya                            Tidak         >UMR    Non PE         NaN  \n",
       "1  Tidak                              Ada         >UMR        PE         NaN  \n",
       "2  Tidak                            Tidak         >UMR    Non PE         NaN  \n",
       "3  Tidak                            Tidak         >UMR    Non PE         NaN  \n",
       "4  Tidak                            Tidak         >UMR    Non PE         NaN  "
      ]
     },
     "metadata": {},
     "output_type": "display_data"
    }
   ],
   "source": [
    "display(df.head())"
   ]
  },
  {
   "cell_type": "markdown",
   "id": "a0243bad",
   "metadata": {},
   "source": [
    "## Cek Tipe Data"
   ]
  },
  {
   "cell_type": "code",
   "execution_count": 90,
   "id": "031397d0",
   "metadata": {},
   "outputs": [
    {
     "name": "stdout",
     "output_type": "stream",
     "text": [
      "NO                                   int64\n",
      "NAMA                                object\n",
      "USIA                                object\n",
      "PARITAS                              int64\n",
      "JARAK KELAHIRAN                     object\n",
      "RIW HIPERTENSI                      object\n",
      "RIW PE                              object\n",
      "OBESITAS                            object\n",
      "RIW DM                              object\n",
      "RIW HIPERTENSI/PE DALAM KELUARGA    object\n",
      "SOSEK RENDAH                        object\n",
      "PE/Non PE                           object\n",
      "Unnamed: 12                         object\n",
      "dtype: object\n"
     ]
    }
   ],
   "source": [
    "# Tipe data kolom tertentu\n",
    "print(df.dtypes)"
   ]
  },
  {
   "cell_type": "markdown",
   "id": "6c89a89e",
   "metadata": {},
   "source": [
    "## Menghapus attribute yang tidak berkolerasi"
   ]
  },
  {
   "cell_type": "code",
   "execution_count": 91,
   "id": "7604e517",
   "metadata": {},
   "outputs": [
    {
     "data": {
      "text/html": [
       "<div>\n",
       "<style scoped>\n",
       "    .dataframe tbody tr th:only-of-type {\n",
       "        vertical-align: middle;\n",
       "    }\n",
       "\n",
       "    .dataframe tbody tr th {\n",
       "        vertical-align: top;\n",
       "    }\n",
       "\n",
       "    .dataframe thead th {\n",
       "        text-align: right;\n",
       "    }\n",
       "</style>\n",
       "<table border=\"1\" class=\"dataframe\">\n",
       "  <thead>\n",
       "    <tr style=\"text-align: right;\">\n",
       "      <th></th>\n",
       "      <th>USIA</th>\n",
       "      <th>PARITAS</th>\n",
       "      <th>JARAK KELAHIRAN</th>\n",
       "      <th>RIW HIPERTENSI</th>\n",
       "      <th>RIW PE</th>\n",
       "      <th>OBESITAS</th>\n",
       "      <th>RIW DM</th>\n",
       "      <th>RIW HIPERTENSI/PE DALAM KELUARGA</th>\n",
       "      <th>SOSEK RENDAH</th>\n",
       "      <th>PE/Non PE</th>\n",
       "    </tr>\n",
       "  </thead>\n",
       "  <tbody>\n",
       "    <tr>\n",
       "      <th>0</th>\n",
       "      <td>23 TH</td>\n",
       "      <td>3</td>\n",
       "      <td>&lt; 2 tahun</td>\n",
       "      <td>Tidak</td>\n",
       "      <td>Tidak</td>\n",
       "      <td>Tidak</td>\n",
       "      <td>Ya</td>\n",
       "      <td>Tidak</td>\n",
       "      <td>&gt;UMR</td>\n",
       "      <td>Non PE</td>\n",
       "    </tr>\n",
       "    <tr>\n",
       "      <th>1</th>\n",
       "      <td>29 TH</td>\n",
       "      <td>2</td>\n",
       "      <td>&lt; 2 tahun</td>\n",
       "      <td>Tidak</td>\n",
       "      <td>PEB</td>\n",
       "      <td>Tidak</td>\n",
       "      <td>Tidak</td>\n",
       "      <td>Ada</td>\n",
       "      <td>&gt;UMR</td>\n",
       "      <td>PE</td>\n",
       "    </tr>\n",
       "    <tr>\n",
       "      <th>2</th>\n",
       "      <td>20 TH</td>\n",
       "      <td>1</td>\n",
       "      <td>anak pertama</td>\n",
       "      <td>Tidak</td>\n",
       "      <td>Tidak</td>\n",
       "      <td>Tidak</td>\n",
       "      <td>Tidak</td>\n",
       "      <td>Tidak</td>\n",
       "      <td>&gt;UMR</td>\n",
       "      <td>Non PE</td>\n",
       "    </tr>\n",
       "    <tr>\n",
       "      <th>3</th>\n",
       "      <td>18 TH</td>\n",
       "      <td>1</td>\n",
       "      <td>anak pertama</td>\n",
       "      <td>Tidak</td>\n",
       "      <td>Tidak</td>\n",
       "      <td>Tidak</td>\n",
       "      <td>Tidak</td>\n",
       "      <td>Tidak</td>\n",
       "      <td>&gt;UMR</td>\n",
       "      <td>Non PE</td>\n",
       "    </tr>\n",
       "    <tr>\n",
       "      <th>4</th>\n",
       "      <td>34 TH</td>\n",
       "      <td>3</td>\n",
       "      <td>&gt; 2 tahun</td>\n",
       "      <td>Tidak</td>\n",
       "      <td>Tidak</td>\n",
       "      <td>Tidak</td>\n",
       "      <td>Tidak</td>\n",
       "      <td>Tidak</td>\n",
       "      <td>&gt;UMR</td>\n",
       "      <td>Non PE</td>\n",
       "    </tr>\n",
       "  </tbody>\n",
       "</table>\n",
       "</div>"
      ],
      "text/plain": [
       "    USIA  PARITAS JARAK KELAHIRAN RIW HIPERTENSI RIW PE OBESITAS RIW DM  \\\n",
       "0  23 TH        3       < 2 tahun          Tidak  Tidak    Tidak     Ya   \n",
       "1  29 TH        2       < 2 tahun          Tidak    PEB    Tidak  Tidak   \n",
       "2  20 TH        1    anak pertama          Tidak  Tidak    Tidak  Tidak   \n",
       "3  18 TH        1    anak pertama          Tidak  Tidak    Tidak  Tidak   \n",
       "4  34 TH        3      > 2 tahun           Tidak  Tidak    Tidak  Tidak   \n",
       "\n",
       "  RIW HIPERTENSI/PE DALAM KELUARGA SOSEK RENDAH PE/Non PE  \n",
       "0                            Tidak         >UMR    Non PE  \n",
       "1                              Ada         >UMR        PE  \n",
       "2                            Tidak         >UMR    Non PE  \n",
       "3                            Tidak         >UMR    Non PE  \n",
       "4                            Tidak         >UMR    Non PE  "
      ]
     },
     "metadata": {},
     "output_type": "display_data"
    }
   ],
   "source": [
    "# Menghapus kolom\n",
    "df = df.drop(['NO', 'NAMA', 'Unnamed: 12'], axis=1)\n",
    "display(df.head())"
   ]
  },
  {
   "cell_type": "markdown",
   "id": "5d3bf333",
   "metadata": {},
   "source": [
    "### Menghitung total nilai NULL"
   ]
  },
  {
   "cell_type": "code",
   "execution_count": 92,
   "id": "b1b40633",
   "metadata": {},
   "outputs": [
    {
     "name": "stdout",
     "output_type": "stream",
     "text": [
      "USIA                                3\n",
      "PARITAS                             0\n",
      "JARAK KELAHIRAN                     7\n",
      "RIW HIPERTENSI                      0\n",
      "RIW PE                              0\n",
      "OBESITAS                            0\n",
      "RIW DM                              0\n",
      "RIW HIPERTENSI/PE DALAM KELUARGA    0\n",
      "SOSEK RENDAH                        0\n",
      "PE/Non PE                           0\n",
      "dtype: int64\n"
     ]
    }
   ],
   "source": [
    "print(df.isnull().sum())"
   ]
  },
  {
   "cell_type": "markdown",
   "id": "b741195a",
   "metadata": {},
   "source": [
    "## Cek apakah data sudah sesuai"
   ]
  },
  {
   "cell_type": "code",
   "execution_count": 93,
   "id": "d8af32f7",
   "metadata": {},
   "outputs": [
    {
     "name": "stdout",
     "output_type": "stream",
     "text": [
      "Jarak Kelahiran : \n",
      " JARAK KELAHIRAN\n",
      "anak pertama    260\n",
      "> 2 tahun       211\n",
      "< 2 tahun        81\n",
      "> 2 tahun         2\n",
      "Name: count, dtype: int64 \n",
      "\n",
      "\n",
      "\n",
      "Hipertensi : \n",
      " RIW HIPERTENSI\n",
      "Tidak    508\n",
      "Ya        53\n",
      "Name: count, dtype: int64 \n",
      "\n",
      "\n",
      "\n",
      "Riw PE : \n",
      " RIW PE\n",
      "Tidak                     526\n",
      "PEB                        19\n",
      "PE                          6\n",
      "HELLP SYNDROM               2\n",
      "Impending PE                2\n",
      "Impending Eklamsia          1\n",
      "Kejang Konvulsi             1\n",
      "impending eklamsia          1\n",
      "PE, HELLP Syndrome          1\n",
      "PEB impending eklampsi      1\n",
      "Impending Ekalmsia          1\n",
      "Name: count, dtype: int64 \n",
      "\n",
      "\n",
      "\n",
      "Obesitas : \n",
      " OBESITAS\n",
      "Tidak    556\n",
      "Ya         5\n",
      "Name: count, dtype: int64 \n",
      "\n",
      "\n",
      "\n",
      "Sosek Rendah : \n",
      " SOSEK RENDAH\n",
      ">UMR    557\n",
      "<UMR      4\n",
      "Name: count, dtype: int64 \n",
      "\n",
      "\n",
      "\n",
      "Riw Dm : \n",
      " RIW DM\n",
      "Tidak    556\n",
      "Ya         5\n",
      "Name: count, dtype: int64 \n",
      "\n",
      "\n",
      "\n",
      "Riw Hipertensi/PE Dalam Keluarga : \n",
      " RIW HIPERTENSI/PE DALAM KELUARGA\n",
      "Tidak    550\n",
      "Ada       11\n",
      "Name: count, dtype: int64 \n",
      "\n",
      "\n",
      "\n",
      "PE/Non PE : \n",
      " PE/Non PE\n",
      "Non PE                    520\n",
      "PEB                        20\n",
      "PE                         17\n",
      "Eklamsia                    1\n",
      "PE gemelli                  1\n",
      "PEB impending eklampsi      1\n",
      "PE                          1\n",
      "Name: count, dtype: int64 \n",
      "\n",
      "\n",
      "\n"
     ]
    }
   ],
   "source": [
    "jarak_kelahiran_counts = df['JARAK KELAHIRAN'].value_counts()\n",
    "print('Jarak Kelahiran : \\n',jarak_kelahiran_counts, '\\n\\n\\n')\n",
    "\n",
    "riw_hipertensi_counts = df['RIW HIPERTENSI'].value_counts()\n",
    "print ('Hipertensi : \\n',riw_hipertensi_counts, '\\n\\n\\n')\n",
    "\n",
    "riw_pe_counts = df['RIW PE'].value_counts()\n",
    "print ('Riw PE : \\n',riw_pe_counts, '\\n\\n\\n')\n",
    "\n",
    "obesitas_counts = df['OBESITAS'].value_counts()\n",
    "print ('Obesitas : \\n',obesitas_counts, '\\n\\n\\n')\n",
    "\n",
    "sosek_rendah_counts = df['SOSEK RENDAH'].value_counts()\n",
    "print ('Sosek Rendah : \\n',sosek_rendah_counts, '\\n\\n\\n')\n",
    "\n",
    "riw_dm_counts = df['RIW DM'].value_counts()\n",
    "print ('Riw Dm : \\n', riw_dm_counts, '\\n\\n\\n')\n",
    "\n",
    "pe_keluarga_counts = df['RIW HIPERTENSI/PE DALAM KELUARGA'].value_counts()\n",
    "print ('Riw Hipertensi/PE Dalam Keluarga : \\n', pe_keluarga_counts, '\\n\\n\\n')\n",
    "\n",
    "pe_non_pe_counts = df['PE/Non PE'].value_counts()\n",
    "print ('PE/Non PE : \\n', pe_non_pe_counts, '\\n\\n\\n')"
   ]
  },
  {
   "cell_type": "markdown",
   "id": "d969078a",
   "metadata": {},
   "source": [
    "## Membersihkan data di kolom 'USIA'"
   ]
  },
  {
   "cell_type": "code",
   "execution_count": 94,
   "id": "fd62fed4",
   "metadata": {},
   "outputs": [],
   "source": [
    "# Membersihkan kolom dan mengubah ke numerik\n",
    "df['USIA'] = pd.to_numeric(df['USIA'].str.replace(r'\\D', '', regex=True), errors='coerce')\n",
    "\n",
    "# Mengisi nilai null dengan nilai rata-rata\n",
    "df['USIA'] = df['USIA'].fillna(df['USIA'].mean()).astype(int)\n",
    "\n"
   ]
  },
  {
   "cell_type": "markdown",
   "id": "e070d7cc",
   "metadata": {},
   "source": [
    "## Membersihkan data 'JARAK KELAHIRAN'"
   ]
  },
  {
   "cell_type": "code",
   "execution_count": 95,
   "id": "ad5b6612",
   "metadata": {},
   "outputs": [],
   "source": [
    "# Menghapus baris yang memiliki nilai null pada kolom 'Status'\n",
    "df = df.dropna(subset=['JARAK KELAHIRAN'])"
   ]
  },
  {
   "cell_type": "code",
   "execution_count": 96,
   "id": "2e372cae",
   "metadata": {},
   "outputs": [
    {
     "name": "stdout",
     "output_type": "stream",
     "text": [
      "JARAK KELAHIRAN\n",
      "anak pertama    260\n",
      "> 2 tahun       213\n",
      "< 2 tahun        81\n",
      "Name: count, dtype: int64\n"
     ]
    }
   ],
   "source": [
    "# menghapus spasi\n",
    "df['JARAK KELAHIRAN'] = df['JARAK KELAHIRAN'].str.strip()\n",
    "jarak_kelahiran_counts = df['JARAK KELAHIRAN'].value_counts()\n",
    "print(jarak_kelahiran_counts)"
   ]
  },
  {
   "cell_type": "code",
   "execution_count": 97,
   "id": "b2f890f3",
   "metadata": {},
   "outputs": [],
   "source": [
    "## Membersihkan Data PE/Non PE"
   ]
  },
  {
   "cell_type": "code",
   "execution_count": 98,
   "id": "51b5b9a8",
   "metadata": {},
   "outputs": [
    {
     "name": "stdout",
     "output_type": "stream",
     "text": [
      "PE/Non PE\n",
      "Non PE                    514\n",
      "PEB                        20\n",
      "PE                         17\n",
      "Eklamsia                    1\n",
      "PE gemelli                  1\n",
      "PEB impending eklampsi      1\n",
      "Name: count, dtype: int64\n"
     ]
    }
   ],
   "source": [
    "# menghapus spasi\n",
    "df['PE/Non PE'] = df['PE/Non PE'].str.strip()\n",
    "jarak_kelahiran_counts = df['PE/Non PE'].value_counts()\n",
    "print(jarak_kelahiran_counts)"
   ]
  },
  {
   "cell_type": "markdown",
   "id": "a3c68a94",
   "metadata": {},
   "source": [
    "## Mengubah attribute kategorial Menjadi Numerik/Kategorikal"
   ]
  },
  {
   "cell_type": "code",
   "execution_count": 99,
   "id": "619d6b3a",
   "metadata": {},
   "outputs": [
    {
     "name": "stdout",
     "output_type": "stream",
     "text": [
      "0    0\n",
      "1    0\n",
      "2    0\n",
      "3    0\n",
      "4    0\n",
      "Name: RIW HIPERTENSI, dtype: int64\n"
     ]
    }
   ],
   "source": [
    "# mengubah 'RIW HIPERTENSI' menjadi numeric/kategorikal\n",
    "df['RIW HIPERTENSI'] = df['RIW HIPERTENSI'].map({'Ya': 1, 'Tidak': 0})\n",
    "print(df['RIW HIPERTENSI'][:5])\n",
    "\n",
    "# mengubah 'JARAK KELAHIRAN' menjadi numeric/kategorikal\n",
    "df['JARAK KELAHIRAN'] = encoder.fit_transform(df['JARAK KELAHIRAN'])\n",
    "\n",
    "# mengubah 'SESOK RENDAH' menjadi numeric/kategorikal\n",
    "df['SOSEK RENDAH'] = encoder.fit_transform(df['SOSEK RENDAH'])\n",
    "\n",
    "# mengubah 'RIW PE' menjadi numeric/kategorikal\n",
    "df['RIW PE'] = encoder.fit_transform(df['RIW PE'])\n",
    "\n",
    "# mengubah 'OBESITAS' menjadi numeric/kategorikal\n",
    "df['OBESITAS'] = df['OBESITAS'].map({'Tidak': 1, 'Ya': 0})\n",
    "\n",
    "# mengubah 'RIW HIPERTENSI/PE DALAM KELUARGA' menjadi numeric/kategorikal\n",
    "df['RIW HIPERTENSI/PE DALAM KELUARGA'] = df['RIW HIPERTENSI/PE DALAM KELUARGA'].map({'Tidak': 1, 'Ada': 0})\n",
    "\n",
    "# mengubah 'RIW DM' menjadi numeric/kategorikal\n",
    "df['RIW DM'] = df['RIW DM'].map({'Tidak': 1, 'Ya': 0})\n",
    "\n",
    "# mengubah 'PE/Non PE' menjadi numeric/kategorikal\n",
    "df['PE/Non PE'] = df['PE/Non PE'].map({'PE': 1, 'Non PE': 0})"
   ]
  },
  {
   "cell_type": "markdown",
   "id": "77ab0e2a",
   "metadata": {},
   "source": [
    "## Normalisasi attribute numerik"
   ]
  },
  {
   "cell_type": "code",
   "execution_count": 100,
   "id": "f082e49f",
   "metadata": {},
   "outputs": [],
   "source": [
    "# menormalisasi Attribute USIA dan PARITAS\n",
    "df[['USIA', 'PARITAS']] = scaler.fit_transform(df[['USIA', 'PARITAS']])"
   ]
  },
  {
   "cell_type": "code",
   "execution_count": 101,
   "id": "6a75d822",
   "metadata": {},
   "outputs": [
    {
     "data": {
      "text/html": [
       "<div>\n",
       "<style scoped>\n",
       "    .dataframe tbody tr th:only-of-type {\n",
       "        vertical-align: middle;\n",
       "    }\n",
       "\n",
       "    .dataframe tbody tr th {\n",
       "        vertical-align: top;\n",
       "    }\n",
       "\n",
       "    .dataframe thead th {\n",
       "        text-align: right;\n",
       "    }\n",
       "</style>\n",
       "<table border=\"1\" class=\"dataframe\">\n",
       "  <thead>\n",
       "    <tr style=\"text-align: right;\">\n",
       "      <th></th>\n",
       "      <th>USIA</th>\n",
       "      <th>PARITAS</th>\n",
       "      <th>JARAK KELAHIRAN</th>\n",
       "      <th>RIW HIPERTENSI</th>\n",
       "      <th>RIW PE</th>\n",
       "      <th>OBESITAS</th>\n",
       "      <th>RIW DM</th>\n",
       "      <th>RIW HIPERTENSI/PE DALAM KELUARGA</th>\n",
       "      <th>SOSEK RENDAH</th>\n",
       "      <th>PE/Non PE</th>\n",
       "    </tr>\n",
       "  </thead>\n",
       "  <tbody>\n",
       "    <tr>\n",
       "      <th>0</th>\n",
       "      <td>0.333333</td>\n",
       "      <td>0.500000</td>\n",
       "      <td>0</td>\n",
       "      <td>0</td>\n",
       "      <td>9</td>\n",
       "      <td>1</td>\n",
       "      <td>0</td>\n",
       "      <td>1</td>\n",
       "      <td>1</td>\n",
       "      <td>0.0</td>\n",
       "    </tr>\n",
       "    <tr>\n",
       "      <th>1</th>\n",
       "      <td>0.533333</td>\n",
       "      <td>0.333333</td>\n",
       "      <td>0</td>\n",
       "      <td>0</td>\n",
       "      <td>7</td>\n",
       "      <td>1</td>\n",
       "      <td>1</td>\n",
       "      <td>0</td>\n",
       "      <td>1</td>\n",
       "      <td>1.0</td>\n",
       "    </tr>\n",
       "    <tr>\n",
       "      <th>2</th>\n",
       "      <td>0.233333</td>\n",
       "      <td>0.166667</td>\n",
       "      <td>2</td>\n",
       "      <td>0</td>\n",
       "      <td>9</td>\n",
       "      <td>1</td>\n",
       "      <td>1</td>\n",
       "      <td>1</td>\n",
       "      <td>1</td>\n",
       "      <td>0.0</td>\n",
       "    </tr>\n",
       "    <tr>\n",
       "      <th>3</th>\n",
       "      <td>0.166667</td>\n",
       "      <td>0.166667</td>\n",
       "      <td>2</td>\n",
       "      <td>0</td>\n",
       "      <td>9</td>\n",
       "      <td>1</td>\n",
       "      <td>1</td>\n",
       "      <td>1</td>\n",
       "      <td>1</td>\n",
       "      <td>0.0</td>\n",
       "    </tr>\n",
       "    <tr>\n",
       "      <th>4</th>\n",
       "      <td>0.700000</td>\n",
       "      <td>0.500000</td>\n",
       "      <td>1</td>\n",
       "      <td>0</td>\n",
       "      <td>9</td>\n",
       "      <td>1</td>\n",
       "      <td>1</td>\n",
       "      <td>1</td>\n",
       "      <td>1</td>\n",
       "      <td>0.0</td>\n",
       "    </tr>\n",
       "  </tbody>\n",
       "</table>\n",
       "</div>"
      ],
      "text/plain": [
       "       USIA   PARITAS  JARAK KELAHIRAN  RIW HIPERTENSI  RIW PE  OBESITAS  \\\n",
       "0  0.333333  0.500000                0               0       9         1   \n",
       "1  0.533333  0.333333                0               0       7         1   \n",
       "2  0.233333  0.166667                2               0       9         1   \n",
       "3  0.166667  0.166667                2               0       9         1   \n",
       "4  0.700000  0.500000                1               0       9         1   \n",
       "\n",
       "   RIW DM  RIW HIPERTENSI/PE DALAM KELUARGA  SOSEK RENDAH  PE/Non PE  \n",
       "0       0                                 1             1        0.0  \n",
       "1       1                                 0             1        1.0  \n",
       "2       1                                 1             1        0.0  \n",
       "3       1                                 1             1        0.0  \n",
       "4       1                                 1             1        0.0  "
      ]
     },
     "metadata": {},
     "output_type": "display_data"
    }
   ],
   "source": [
    "display(df.head())"
   ]
  }
 ],
 "metadata": {
  "kernelspec": {
   "display_name": "Python 3 (ipykernel)",
   "language": "python",
   "name": "python3"
  },
  "language_info": {
   "codemirror_mode": {
    "name": "ipython",
    "version": 3
   },
   "file_extension": ".py",
   "mimetype": "text/x-python",
   "name": "python",
   "nbconvert_exporter": "python",
   "pygments_lexer": "ipython3",
   "version": "3.12.3"
  }
 },
 "nbformat": 4,
 "nbformat_minor": 5
}
